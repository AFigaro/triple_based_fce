{
 "cells": [
  {
   "cell_type": "code",
   "execution_count": 2,
   "metadata": {},
   "outputs": [],
   "source": [
    "import json\n",
    "import os\n",
    "import matplotlib.pyplot as plt"
   ]
  },
  {
   "cell_type": "code",
   "execution_count": 3,
   "metadata": {},
   "outputs": [],
   "source": [
    "file_path = os.path.join(\"prompt-tuning\", \"triplet_extraction_results\", \"gpt-4o-mini-2024-07-18\",\n",
    "                             \"experiments_single_topk\", \"experiment1\", \"triplets_single_task.json\")"
   ]
  },
  {
   "cell_type": "code",
   "execution_count": 7,
   "metadata": {},
   "outputs": [
    {
     "name": "stdout",
     "output_type": "stream",
     "text": [
      "32\n"
     ]
    }
   ],
   "source": [
    "with open(file_path, \"r\", encoding=\"utf-8\") as f:\n",
    "        data = json.load(f)\n",
    "\n",
    "print(len(data))\n",
    "    \n",
    "# Prepare lists to store the unique counts per entry.\n",
    "unique_articles_counts = []\n",
    "unique_summaries_counts = []"
   ]
  },
  {
   "cell_type": "code",
   "execution_count": 8,
   "metadata": {},
   "outputs": [
    {
     "name": "stdout",
     "output_type": "stream",
     "text": [
      "Entry ID 1: Unique Articles = 30, Unique Summaries = 20\n",
      "Entry ID 2: Unique Articles = 30, Unique Summaries = 10\n",
      "Entry ID 3: Unique Articles = 30, Unique Summaries = 25\n",
      "Entry ID 5: Unique Articles = 30, Unique Summaries = 12\n",
      "Entry ID 6: Unique Articles = 30, Unique Summaries = 17\n",
      "Entry ID 7: Unique Articles = 30, Unique Summaries = 11\n",
      "Entry ID 8: Unique Articles = 30, Unique Summaries = 7\n",
      "Entry ID 9: Unique Articles = 30, Unique Summaries = 27\n",
      "Entry ID 10: Unique Articles = 30, Unique Summaries = 16\n",
      "Entry ID 11: Unique Articles = 30, Unique Summaries = 25\n",
      "Entry ID 12: Unique Articles = 30, Unique Summaries = 16\n",
      "Entry ID 13: Unique Articles = 30, Unique Summaries = 9\n",
      "Entry ID 14: Unique Articles = 30, Unique Summaries = 17\n",
      "Entry ID 15: Unique Articles = 27, Unique Summaries = 8\n",
      "Entry ID 16: Unique Articles = 29, Unique Summaries = 17\n",
      "Entry ID 17: Unique Articles = 30, Unique Summaries = 20\n",
      "Entry ID 19: Unique Articles = 30, Unique Summaries = 8\n",
      "Entry ID 20: Unique Articles = 30, Unique Summaries = 14\n",
      "Entry ID 21: Unique Articles = 30, Unique Summaries = 3\n",
      "Entry ID 22: Unique Articles = 30, Unique Summaries = 25\n",
      "Entry ID 23: Unique Articles = 30, Unique Summaries = 26\n",
      "Entry ID 24: Unique Articles = 30, Unique Summaries = 7\n",
      "Entry ID 25: Unique Articles = 30, Unique Summaries = 19\n",
      "Entry ID 26: Unique Articles = 30, Unique Summaries = 8\n",
      "Entry ID 27: Unique Articles = 30, Unique Summaries = 25\n",
      "Entry ID 28: Unique Articles = 30, Unique Summaries = 1\n",
      "Entry ID 30: Unique Articles = 30, Unique Summaries = 24\n",
      "Entry ID 31: Unique Articles = 30, Unique Summaries = 13\n",
      "Entry ID 32: Unique Articles = 30, Unique Summaries = 21\n",
      "Entry ID 2385: Unique Articles = 15, Unique Summaries = 16\n",
      "Entry ID 34: Unique Articles = 30, Unique Summaries = 26\n",
      "Entry ID 35: Unique Articles = 30, Unique Summaries = 25\n"
     ]
    }
   ],
   "source": [
    "for entry in data:\n",
    "    articles = entry.get(\"articles\", [])\n",
    "    summaries = entry.get(\"summaries\", [])\n",
    "    unique_articles = len(set(articles))\n",
    "    unique_summaries = len(set(summaries))\n",
    "    \n",
    "    unique_articles_counts.append(unique_articles)\n",
    "    unique_summaries_counts.append(unique_summaries)\n",
    "    \n",
    "    print(f\"Entry ID {entry.get('id')}: Unique Articles = {unique_articles}, Unique Summaries = {unique_summaries}\")\n"
   ]
  },
  {
   "cell_type": "code",
   "execution_count": 9,
   "metadata": {},
   "outputs": [
    {
     "data": {
      "image/png": "[encoded data removed]",
      "text/plain": [
       "<Figure size 1200x500 with 2 Axes>"
      ]
     },
     "metadata": {},
     "output_type": "display_data"
    }
   ],
   "source": [
    "# Plot the distributions.\n",
    "plt.figure(figsize=(12, 5))\n",
    "\n",
    "# Histogram for unique articles.\n",
    "plt.subplot(1, 2, 1)\n",
    "plt.hist(unique_articles_counts, bins=range(min(unique_articles_counts), max(unique_articles_counts) + 2),\n",
    "            edgecolor=\"black\")\n",
    "plt.xlabel(\"Number of Unique Articles\")\n",
    "plt.ylabel(\"Frequency\")\n",
    "plt.title(\"Distribution of Unique Articles\")\n",
    "\n",
    "# Histogram for unique summaries.\n",
    "plt.subplot(1, 2, 2)\n",
    "plt.hist(unique_summaries_counts, bins=range(min(unique_summaries_counts), max(unique_summaries_counts) + 2),\n",
    "            edgecolor=\"black\")\n",
    "plt.xlabel(\"Number of Unique Summaries\")\n",
    "plt.ylabel(\"Frequency\")\n",
    "plt.title(\"Distribution of Unique Summaries\")\n",
    "\n",
    "plt.tight_layout()\n",
    "plt.show()"
   ]
  },
  {
   "cell_type": "code",
   "execution_count": null,
   "metadata": {},
   "outputs": [],
   "source": []
  }
 ],
 "metadata": {
  "kernelspec": {
   "display_name": "webui",
   "language": "python",
   "name": "python3"
  },
  "language_info": {
   "codemirror_mode": {
    "name": "ipython",
    "version": 3
   },
   "file_extension": ".py",
   "mimetype": "text/x-python",
   "name": "python",
   "nbconvert_exporter": "python",
   "pygments_lexer": "ipython3",
   "version": "3.11.11"
  }
 },
 "nbformat": 4,
 "nbformat_minor": 2
}
